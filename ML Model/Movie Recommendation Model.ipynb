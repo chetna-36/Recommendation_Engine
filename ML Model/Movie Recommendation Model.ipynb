{
 "cells": [
  {
   "cell_type": "code",
   "execution_count": null,
   "id": "850d3b4f",
   "metadata": {},
   "outputs": [],
   "source": [
    "import pandas as pd\n",
    "import numpy as np\n",
    "import warnings"
   ]
  },
  {
   "cell_type": "code",
   "execution_count": null,
   "id": "7ee519aa",
   "metadata": {},
   "outputs": [],
   "source": [
    "warnings.filterwarnings('ignore')"
   ]
  },
  {
   "cell_type": "markdown",
   "id": "c3e5c99c",
   "metadata": {},
   "source": [
    "### Reading the movie dataset"
   ]
  },
  {
   "cell_type": "code",
   "execution_count": null,
   "id": "62950582",
   "metadata": {},
   "outputs": [],
   "source": [
    "df = pd.read_csv(\"ml-100k/u.data\",sep='\\t',names = [\"user_id\",\"item_id\",\"rating\",\"timestamp\"])"
   ]
  },
  {
   "cell_type": "code",
   "execution_count": null,
   "id": "d1b3194e",
   "metadata": {},
   "outputs": [],
   "source": [
    "df"
   ]
  },
  {
   "cell_type": "code",
   "execution_count": null,
   "id": "d14ed367",
   "metadata": {},
   "outputs": [],
   "source": [
    "df.shape"
   ]
  },
  {
   "cell_type": "code",
   "execution_count": null,
   "id": "2e3bdecb",
   "metadata": {},
   "outputs": [],
   "source": [
    "df['user_id'].nunique()"
   ]
  },
  {
   "cell_type": "code",
   "execution_count": null,
   "id": "15ddc31a",
   "metadata": {},
   "outputs": [],
   "source": [
    "df['item_id'].nunique()"
   ]
  },
  {
   "cell_type": "code",
   "execution_count": null,
   "id": "e6e17778",
   "metadata": {},
   "outputs": [],
   "source": [
    "movie_titles = pd.read_csv(\"ml-100k/u.item\",sep=\"\\|\",header = None,encoding='latin-1')"
   ]
  },
  {
   "cell_type": "code",
   "execution_count": null,
   "id": "9ae100a4",
   "metadata": {},
   "outputs": [],
   "source": [
    "movie_titles "
   ]
  },
  {
   "cell_type": "code",
   "execution_count": null,
   "id": "615d9f4d",
   "metadata": {},
   "outputs": [],
   "source": [
    "movie_titles = movie_titles[[0,1]]\n",
    "movie_titles.columns = ['item_id','title']"
   ]
  },
  {
   "cell_type": "code",
   "execution_count": null,
   "id": "d75754b3",
   "metadata": {},
   "outputs": [],
   "source": [
    "movie_titles"
   ]
  },
  {
   "cell_type": "code",
   "execution_count": null,
   "id": "ebf0ad05",
   "metadata": {},
   "outputs": [],
   "source": [
    "df = pd.merge(df,movie_titles,on = \"item_id\")\n",
    "df"
   ]
  },
  {
   "cell_type": "markdown",
   "id": "47197b70",
   "metadata": {},
   "source": [
    "### Exploratory Data Analysis"
   ]
  },
  {
   "cell_type": "code",
   "execution_count": null,
   "id": "2efea2b7",
   "metadata": {},
   "outputs": [],
   "source": [
    "import matplotlib.pyplot as plt\n",
    "#!pip install seaborn\n",
    "import seaborn as sns"
   ]
  },
  {
   "cell_type": "code",
   "execution_count": null,
   "id": "034a3573",
   "metadata": {},
   "outputs": [],
   "source": [
    "ratings = pd.DataFrame(df.groupby('title').mean()['rating'])\n",
    "ratings"
   ]
  },
  {
   "cell_type": "code",
   "execution_count": null,
   "id": "77020e90",
   "metadata": {},
   "outputs": [],
   "source": [
    "\n",
    "ratings['num of ratings'] = pd.DataFrame(df.groupby('title').count()['rating'])"
   ]
  },
  {
   "cell_type": "code",
   "execution_count": null,
   "id": "874c633b",
   "metadata": {},
   "outputs": [],
   "source": [
    "ratings.sort_values(by=['rating'],ascending = False)"
   ]
  },
  {
   "cell_type": "code",
   "execution_count": null,
   "id": "aa7c1311",
   "metadata": {},
   "outputs": [],
   "source": [
    "plt.figure(figsize=(10,6))\n",
    "plt.hist(ratings['num of ratings'],bins=70)\n",
    "plt.show()"
   ]
  },
  {
   "cell_type": "code",
   "execution_count": null,
   "id": "22fe31b8",
   "metadata": {},
   "outputs": [],
   "source": [
    "plt.hist(ratings['rating'],bins=70)\n",
    "plt.show()"
   ]
  },
  {
   "cell_type": "code",
   "execution_count": null,
   "id": "d4c3345d",
   "metadata": {},
   "outputs": [],
   "source": [
    "sns.jointplot(x='rating',y='num of ratings',data=ratings,alpha = 0.5)"
   ]
  },
  {
   "cell_type": "markdown",
   "id": "b15bc51a",
   "metadata": {},
   "source": [
    "### Recommender"
   ]
  },
  {
   "cell_type": "code",
   "execution_count": null,
   "id": "18925447",
   "metadata": {},
   "outputs": [],
   "source": [
    "df"
   ]
  },
  {
   "cell_type": "code",
   "execution_count": null,
   "id": "5f01d66d",
   "metadata": {},
   "outputs": [],
   "source": [
    "movie_matrix = df.pivot_table(index = \"user_id\",columns = \"title\",values = \"rating\")"
   ]
  },
  {
   "cell_type": "code",
   "execution_count": null,
   "id": "4bebb0dc",
   "metadata": {},
   "outputs": [],
   "source": [
    "movie_matrix"
   ]
  },
  {
   "cell_type": "code",
   "execution_count": null,
   "id": "08361d01",
   "metadata": {},
   "outputs": [],
   "source": [
    "starwars_user_ratings = movie_matrix['Star Wars (1977)']"
   ]
  },
  {
   "cell_type": "code",
   "execution_count": null,
   "id": "518a3cc1",
   "metadata": {},
   "outputs": [],
   "source": [
    "starwars_user_ratings"
   ]
  },
  {
   "cell_type": "code",
   "execution_count": null,
   "id": "82c17db0",
   "metadata": {},
   "outputs": [],
   "source": [
    "similar_to_starwars = movie_matrix.corrwith(starwars_user_ratings)"
   ]
  },
  {
   "cell_type": "markdown",
   "id": "b25a6bdc",
   "metadata": {},
   "source": [
    "# Corelation = Covariance(x,y) / σ(x)*σ(y)"
   ]
  },
  {
   "cell_type": "markdown",
   "id": "ceb22ee3",
   "metadata": {},
   "source": [
    "# Covariance(x,y) = Σ(xᵢ - x̄)*(yᵢ - ȳ) / Total records"
   ]
  },
  {
   "cell_type": "markdown",
   "id": "45c12cc7",
   "metadata": {},
   "source": [
    "# Where,"
   ]
  },
  {
   "cell_type": "markdown",
   "id": "940640fd",
   "metadata": {},
   "source": [
    "# σ(y) = Standard Deviation of y"
   ]
  },
  {
   "cell_type": "markdown",
   "id": "1b7aba1f",
   "metadata": {},
   "source": [
    "# σ(x) = Standard Deviation of x\n",
    "# xᵢ = iᵗʰ element of x\n",
    "# x̄ = sample mean of x\n",
    "# yᵢ = iᵗʰ element of y\n",
    "# ȳ = sample mean of y"
   ]
  },
  {
   "cell_type": "code",
   "execution_count": null,
   "id": "d68ea737",
   "metadata": {},
   "outputs": [],
   "source": [
    "similar_to_starwars"
   ]
  },
  {
   "cell_type": "code",
   "execution_count": null,
   "id": "74782b68",
   "metadata": {},
   "outputs": [],
   "source": [
    "corr_starwars = pd.DataFrame(similar_to_starwars,columns = ['Correlation'])"
   ]
  },
  {
   "cell_type": "code",
   "execution_count": null,
   "id": "dbc18725",
   "metadata": {},
   "outputs": [],
   "source": [
    "corr_starwars.dropna(inplace=True)"
   ]
  },
  {
   "cell_type": "code",
   "execution_count": null,
   "id": "b2616a71",
   "metadata": {},
   "outputs": [],
   "source": [
    "corr_starwars"
   ]
  },
  {
   "cell_type": "code",
   "execution_count": null,
   "id": "34487a73",
   "metadata": {},
   "outputs": [],
   "source": [
    "corr_starwars.sort_values(by=['Correlation'],ascending = False)"
   ]
  },
  {
   "cell_type": "code",
   "execution_count": null,
   "id": "5a251219",
   "metadata": {},
   "outputs": [],
   "source": [
    "corr_starwars=corr_starwars.join(ratings['num of ratings'])"
   ]
  },
  {
   "cell_type": "code",
   "execution_count": null,
   "id": "7372941b",
   "metadata": {},
   "outputs": [],
   "source": [
    "corr_starwars[corr_starwars['num of ratings']>=100].sort_values(by=['Correlation'],ascending = False)"
   ]
  },
  {
   "cell_type": "markdown",
   "id": "fc57879d",
   "metadata": {},
   "source": [
    "### Recommendation Funtion"
   ]
  },
  {
   "cell_type": "code",
   "execution_count": null,
   "id": "7faabc5d",
   "metadata": {},
   "outputs": [],
   "source": [
    "def recommend_movie(movie_name):\n",
    "    movie_user_ratings = movie_matrix[movie_name]\n",
    "    similar_to_movie = movie_matrix.corrwith(movie_user_ratings)\n",
    "    \n",
    "    corr_movie = pd.DataFrame(similar_to_movie,columns = ['Correlation'])\n",
    "    corr_movie.dropna(inplace=True)\n",
    "    \n",
    "    corr_movie=corr_movie.join(ratings['num of ratings'])\n",
    "    predictions = corr_movie[corr_movie['num of ratings']>=100].sort_values(by=['Correlation'],ascending = False)\n",
    "    \n",
    "    return predictions"
   ]
  },
  {
   "cell_type": "code",
   "execution_count": null,
   "id": "52375c1f",
   "metadata": {},
   "outputs": [],
   "source": [
    "recommend_movie(\"Titanic (1997)\").head(5)"
   ]
  },
  {
   "cell_type": "code",
   "execution_count": null,
   "id": "6e1db2e6",
   "metadata": {},
   "outputs": [],
   "source": [
    "import pickle"
   ]
  },
  {
   "cell_type": "code",
   "execution_count": null,
   "id": "699e587a",
   "metadata": {},
   "outputs": [],
   "source": [
    "pickle.dump(df,open('movie_dict.pkl','wb'))"
   ]
  },
  {
   "cell_type": "code",
   "execution_count": null,
   "id": "577046c0",
   "metadata": {},
   "outputs": [],
   "source": [
    "pickle.dump(movie_matrix,open('movie_matrix_dict.pkl','wb'))"
   ]
  },
  {
   "cell_type": "markdown",
   "id": "855be02a",
   "metadata": {},
   "source": [
    " User 1:              User 2:\n",
    " Movie 1   3.0        Movie 1   5.0\n",
    " Movie 2   2.0        Movie 2   4.0  \n",
    " Movie 3   4.0        \n",
    " Movie 4   1.0\n",
    "\n",
    " Now, we want movie recommendations based on Movie 2\n",
    " So, we will be recommended Movie 1 and not Movie 3 or Movie 4 as our choice matches('Corelates') with User 2"
   ]
  }
 ],
 "metadata": {
  "interpreter": {
   "hash": "0b38e33d45ba49a66dd93fc6132504fddb18d34d95fb1e33913e81409d1fec3a"
  },
  "kernelspec": {
   "display_name": "Python 3.10.4 64-bit (windows store)",
   "language": "python",
   "name": "python3"
  },
  "language_info": {
   "codemirror_mode": {
    "name": "ipython",
    "version": 3
   },
   "file_extension": ".py",
   "mimetype": "text/x-python",
   "name": "python",
   "nbconvert_exporter": "python",
   "pygments_lexer": "ipython3",
   "version": "3.10.4"
  }
 },
 "nbformat": 4,
 "nbformat_minor": 5
}
